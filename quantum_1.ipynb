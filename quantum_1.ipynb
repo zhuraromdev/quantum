{
  "nbformat": 4,
  "nbformat_minor": 0,
  "metadata": {
    "colab": {
      "provenance": []
    },
    "kernelspec": {
      "name": "python3",
      "display_name": "Python 3"
    },
    "language_info": {
      "name": "python"
    }
  },
  "cells": [
    {
      "cell_type": "code",
      "execution_count": 1,
      "metadata": {
        "id": "hOvFaAv40veR"
      },
      "outputs": [],
      "source": [
        "def count_islands(matrix):\n",
        "    if not matrix:\n",
        "        return 0\n",
        "\n",
        "    rows = len(matrix)\n",
        "    cols = len(matrix[0])\n",
        "    visited = [[False for _ in range(cols)] for _ in range(rows)]\n",
        "\n",
        "    def dfs(i, j):\n",
        "        # If we are out of bounds or on an ocean cell or it's already visited, return\n",
        "        if i < 0 or i >= rows or j < 0 or j >= cols or matrix[i][j] == 0 or visited[i][j]:\n",
        "            return\n",
        "\n",
        "        # Mark the cell as visited\n",
        "        visited[i][j] = True\n",
        "\n",
        "        # Visit all neighbors (up, down, left, right)\n",
        "        dfs(i + 1, j)\n",
        "        dfs(i - 1, j)\n",
        "        dfs(i, j + 1)\n",
        "        dfs(i, j - 1)\n",
        "\n",
        "    island_count = 0\n",
        "    for i in range(rows):\n",
        "        for j in range(cols):\n",
        "            # If we find an unvisited island cell, do a DFS\n",
        "            if matrix[i][j] == 1 and not visited[i][j]:\n",
        "                dfs(i, j)\n",
        "                island_count += 1\n",
        "\n",
        "    return island_count"
      ]
    },
    {
      "cell_type": "code",
      "source": [
        "# Test cases\n",
        "matrix1 = [\n",
        "    [0, 1, 0],\n",
        "    [0, 0, 0],\n",
        "    [0, 1, 1]\n",
        "]\n",
        "\n",
        "matrix2 = [\n",
        "    [0, 0, 0, 1],\n",
        "    [0, 0, 1, 0],\n",
        "    [0, 1, 0, 0]\n",
        "]\n",
        "\n",
        "matrix3 = [\n",
        "    [0, 0, 0, 1],\n",
        "    [0, 0, 1, 1],\n",
        "    [0, 1, 0, 1]\n",
        "]\n",
        "\n",
        "print(f\"Number of islands in matrix1: {count_islands(matrix1)}\")  # Expected Output: 2\n",
        "print(f\"Number of islands in matrix2: {count_islands(matrix2)}\")  # Expected Output: 3\n",
        "print(f\"Number of islands in matrix3: {count_islands(matrix3)}\")  # Expected Output: 2"
      ],
      "metadata": {
        "colab": {
          "base_uri": "https://localhost:8080/"
        },
        "id": "XKNsRhQm01lX",
        "outputId": "1b715e1f-55a8-4f5c-c3ac-2af3c82f8a43"
      },
      "execution_count": 2,
      "outputs": [
        {
          "output_type": "stream",
          "name": "stdout",
          "text": [
            "Number of islands in matrix1: 2\n",
            "Number of islands in matrix2: 3\n",
            "Number of islands in matrix3: 2\n"
          ]
        }
      ]
    },
    {
      "cell_type": "code",
      "source": [],
      "metadata": {
        "id": "Gm3WHavX02IT"
      },
      "execution_count": null,
      "outputs": []
    }
  ]
}