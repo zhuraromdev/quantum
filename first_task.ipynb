{
  "cells": [
    {
      "cell_type": "code",
      "execution_count": 4,
      "metadata": {},
      "outputs": [],
      "source": [
        "def count_islands(matrix):\n",
        "    \"\"\"\n",
        "    Count the number of islands in a 2D binary matrix.\n",
        "\n",
        "    An island is a group of 1's (representing land) connected horizontally or vertically.\n",
        "    Water is represented by 0's.\n",
        "\n",
        "    Args:\n",
        "    matrix (List[List[int]]): A 2D binary matrix where 1 represents land and 0 represents water.\n",
        "\n",
        "    Returns:\n",
        "    int: The number of islands in the matrix.\n",
        "\n",
        "    Time Complexity: O(rows * cols), where rows and cols are the dimensions of the matrix.\n",
        "    Space Complexity: O(rows * cols) for the visited array and the recursion stack in the worst case.\n",
        "    \"\"\"\n",
        "    if not matrix:\n",
        "        return 0\n",
        "\n",
        "    rows = len(matrix)\n",
        "    cols = len(matrix[0])\n",
        "    visited = [[False for _ in range(cols)] for _ in range(rows)]\n",
        "\n",
        "    def dfs(i, j):\n",
        "        \"\"\"\n",
        "        Depth-First Search to mark all connected land cells as visited.\n",
        "\n",
        "        Args:\n",
        "        i (int): Current row index.\n",
        "        j (int): Current column index.\n",
        "        \"\"\"\n",
        "        # If we are out of bounds or on an ocean cell or it's already visited, return\n",
        "        if i < 0 or i >= rows or j < 0 or j >= cols or matrix[i][j] == 0 or visited[i][j]:\n",
        "            return\n",
        "\n",
        "        # Mark the cell as visited\n",
        "        visited[i][j] = True\n",
        "\n",
        "        # Visit all neighbors (up, down, left, right)\n",
        "        dfs(i + 1, j)\n",
        "        dfs(i - 1, j)\n",
        "        dfs(i, j + 1)\n",
        "        dfs(i, j - 1)\n",
        "\n",
        "    island_count = 0\n",
        "    for i in range(rows):\n",
        "        for j in range(cols):\n",
        "            # If we find an unvisited island cell, do a DFS\n",
        "            if matrix[i][j] == 1 and not visited[i][j]:\n",
        "                dfs(i, j)\n",
        "                island_count += 1\n",
        "\n",
        "    return island_count"
      ]
    },
    {
      "cell_type": "code",
      "execution_count": 7,
      "metadata": {
        "colab": {
          "base_uri": "https://localhost:8080/"
        },
        "id": "XKNsRhQm01lX",
        "outputId": "1b715e1f-55a8-4f5c-c3ac-2af3c82f8a43"
      },
      "outputs": [
        {
          "name": "stdout",
          "output_type": "stream",
          "text": [
            "All test cases passed!\n"
          ]
        }
      ],
      "source": [
        "# Test cases\n",
        "matrix1 = [\n",
        "    [0, 1, 0],\n",
        "    [0, 0, 0],\n",
        "    [0, 1, 1]\n",
        "]\n",
        "\n",
        "matrix2 = [\n",
        "    [0, 0, 0, 1],\n",
        "    [0, 0, 1, 0],\n",
        "    [0, 1, 0, 0]\n",
        "]\n",
        "\n",
        "matrix3 = [\n",
        "    [0, 0, 0, 1],\n",
        "    [0, 0, 1, 1],\n",
        "    [0, 1, 0, 1]\n",
        "]\n",
        "\n",
        "matrix4 = [\n",
        "    [1, 1, 1, 1],\n",
        "    [1, 1, 1, 1],\n",
        "    [1, 1, 1, 1]\n",
        "]\n",
        "\n",
        "matrix5 = [\n",
        "    [0, 0, 0, 0],\n",
        "    [0, 0, 0, 0],\n",
        "    [0, 0, 0, 0]\n",
        "]\n",
        "\n",
        "\n",
        "assert count_islands(matrix1) == 2, f\"Expected 2 islands, but got {count_islands(matrix1)}\"\n",
        "assert count_islands(matrix2) == 3, f\"Expected 3 islands, but got {count_islands(matrix2)}\"\n",
        "assert count_islands(matrix3) == 2, f\"Expected 2 islands, but got {count_islands(matrix3)}\"\n",
        "assert count_islands(matrix4) == 1, f\"Expected 1 island, but got {count_islands(matrix4)}\"\n",
        "assert count_islands(matrix5) == 0, f\"Expected 0 islands, but got {count_islands(matrix5)}\"\n",
        "\n",
        "print(\"All test cases passed!\")"
      ]
    },
    {
      "cell_type": "code",
      "execution_count": null,
      "metadata": {
        "id": "Gm3WHavX02IT"
      },
      "outputs": [],
      "source": []
    }
  ],
  "metadata": {
    "colab": {
      "provenance": []
    },
    "kernelspec": {
      "display_name": "Python 3",
      "name": "python3"
    },
    "language_info": {
      "codemirror_mode": {
        "name": "ipython",
        "version": 3
      },
      "file_extension": ".py",
      "mimetype": "text/x-python",
      "name": "python",
      "nbconvert_exporter": "python",
      "pygments_lexer": "ipython3",
      "version": "3.11.4"
    }
  },
  "nbformat": 4,
  "nbformat_minor": 0
}
